{
 "cells": [
  {
   "cell_type": "code",
   "execution_count": 20,
   "metadata": {},
   "outputs": [],
   "source": [
    "# pnl_sdamped 0.15 0.3 0.5 0.7 0.9\n",
    "class SDA(object):\n",
    "    acc_std_list= [498847.47823800147,496995.5595595495, 494723.72496429476, 510892.80805067666, 499016.2167498241]\n",
    "    acc_ave_list= [446950.003470538,426796.5446421511, 462482.8248027076, 445819.38150961517, 441338.0128242984]\n",
    "    pos_std_list= [157.1864548313569,157.04777741214335, 149.34432924073448, 163.5899092230929, 167.5833321340746]\n",
    "    pos_ave_list= [279.2894789505275,278.5679342159568, 265.64000545842606, 288.9205442010729, 304.60754217017814]\n",
    "    total_max_list= [1768894.4,1685000.0, 1637404.0, 1789438.5, 1931841.0]\n",
    "    total_min_list= [1189969.2,1196148.0, 1201289.0, 1199262.0, 1196567.5]\n",
    "    pos_max_list= [509.8,485, 475, 518, 558]\n",
    "    pos_min_list= [0, 0, 0, 0, 0]\n",
    "    acc_max_list= [1755835.1,1651120.0, 1632231.5, 1785140.0, 1928252.0]\n",
    "    total_end_list= [1673985.1,1670891.5, 1635842.5, 1784379.0, 1920833.0]\n",
    "    \n",
    "sda = SDA()"
   ]
  },
  {
   "cell_type": "code",
   "execution_count": 38,
   "metadata": {},
   "outputs": [],
   "source": [
    "ada = {'acc_std_list': [530907.7988604626,\n",
    "  530002.960197613,\n",
    "  506419.6497897945,\n",
    "  512726.9100026359,\n",
    "  503255.59773053834],\n",
    " 'acc_ave_list': [523081.87311771885,\n",
    "  633352.2933597045,\n",
    "  706703.433209351,\n",
    "  760640.1578915628,\n",
    "  817069.7028794532],\n",
    " 'pos_std_list': [162.84895018879624,\n",
    "  153.94374940063324,\n",
    "  143.75386758688012,\n",
    "  144.34640534229302,\n",
    "  143.3226654549119],\n",
    " 'pos_ave_list': [261.3610875613614,\n",
    "  217.07697114741387,\n",
    "  184.43441797864074,\n",
    "  176.55522285625824,\n",
    "  160.91770321710155],\n",
    " 'total_max_list': [1750769.8, 1612342.5, 1551036.0, 1613945.75, 1599357.5],\n",
    " 'total_min_list': [1199982.8, 1198808.0, 1197643.0, 1178927.75, 1201305.5],\n",
    " 'pos_max_list': [507.4, 480, 453, 475.5, 477],\n",
    " 'pos_min_list': [0.0, 0, 0, 0.0, 0],\n",
    " 'acc_max_list': [1739214.9, 1601957.5, 1538961.0, 1604109.75, 1589406.0],\n",
    " 'acc_min_list': [0.1, 1601957.5, 1538961.0, 1.0, 1589406.0],\n",
    " 'total_end_list': [1746248.1, 1612342.5, 1551036.0, 1602120.5, 1599357.5]}"
   ]
  },
  {
   "cell_type": "code",
   "execution_count": 37,
   "metadata": {
    "collapsed": true
   },
   "outputs": [
    {
     "name": "stdout",
     "output_type": "stream",
     "text": [
      "261.3610875613614\n"
     ]
    },
    {
     "data": {
      "text/plain": [
       "{'acc_std_list': [530907.7988604626,\n",
       "  530002.960197613,\n",
       "  506419.6497897945,\n",
       "  512726.9100026359,\n",
       "  503255.59773053834],\n",
       " 'acc_ave_list': [523081.87311771885,\n",
       "  633352.2933597045,\n",
       "  706703.433209351,\n",
       "  760640.1578915628,\n",
       "  817069.7028794532],\n",
       " 'pos_std_list': [162.84895018879624,\n",
       "  153.94374940063324,\n",
       "  143.75386758688012,\n",
       "  144.34640534229302,\n",
       "  143.3226654549119],\n",
       " 'pos_ave_list': [261.3610875613614,\n",
       "  217.07697114741387,\n",
       "  184.43441797864074,\n",
       "  176.55522285625824,\n",
       "  160.91770321710155],\n",
       " 'total_max_list': [1750769.8, 1612342.5, 1551036.0, 1613945.75, 1599357.5],\n",
       " 'total_min_list': [1199982.8, 1198808.0, 1197643.0, 1178927.75, 1201305.5],\n",
       " 'pos_max_list': [507.4, 480, 453, 475.5, 477],\n",
       " 'pos_min_list': [0.0, 0, 0, 0.0, 0],\n",
       " 'acc_max_list': [1739214.9, 1601957.5, 1538961.0, 1604109.75, 1589406.0],\n",
       " 'acc_min_list': [0.1, 1601957.5, 1538961.0, 1.0, 1589406.0],\n",
       " 'total_end_list': [1746248.1, 1612342.5, 1551036.0, 1602120.5, 1599357.5]}"
      ]
     },
     "execution_count": 37,
     "metadata": {},
     "output_type": "execute_result"
    }
   ],
   "source": [
    "class ADA(object):\n",
    "    pass\n",
    "\n",
    "ada = dict(\n",
    "    acc_std_list= [530002.960197613, 506419.6497897945],\n",
    "    acc_ave_list= [633352.2933597045, 706703.433209351],\n",
    "    pos_std_list= [153.94374940063324, 143.75386758688012],\n",
    "    pos_ave_list= [217.07697114741387, 184.43441797864074],\n",
    "    total_max_list= [1612342.5, 1551036.0],\n",
    "    total_min_list= [1198808.0, 1197643.0],\n",
    "    pos_max_list= [480, 453],\n",
    "    pos_min_list= [0, 0],\n",
    "    acc_max_list= [1601957.5, 1538961.0],\n",
    "    acc_min_list= [1601957.5, 1538961.0],\n",
    "    total_end_list= [1612342.5, 1551036.0]\n",
    ")\n",
    "\n",
    "# pnl_adamped 0.9\n",
    "ada09 = dict(\n",
    "acc_std_list= [503255.59773053834],\n",
    "acc_ave_list= [817069.7028794532],\n",
    "pos_std_list= [143.3226654549119],\n",
    "pos_ave_list= [160.91770321710155],\n",
    "total_max_list= [1599357.5],\n",
    "total_min_list= [1201305.5],\n",
    "pos_max_list= [477],\n",
    "pos_min_list= [0],\n",
    "acc_max_list= [1589406.0],\n",
    "acc_min_list= [1589406.0],\n",
    "total_end_list= [1599357.5]\n",
    ")\n",
    "\n",
    "# pnl_adamped 0.7\n",
    "ada07 = dict(\n",
    "acc_std_list =[493937.805384231, 531516.0146210409],\n",
    "pos_std_list =[140.00708479111356, 148.6857258934725],\n",
    "pos_ave_list =[181.85796481450527, 171.25248089801119],\n",
    "acc_ave_list =[700969.4155545457, 820310.9002285799],\n",
    "total_max_list =[1508695.0, 1719196.5],\n",
    "total_min_list = [1158174.0, 1199681.5],\n",
    "pos_max_list =[452, 499],\n",
    "pos_min_list =[0, 0],\n",
    "acc_max_list =[1502567.5, 1705652.0],\n",
    "acc_min_list =[0.0, 2.0],\n",
    "total_end_list = [1488988.5, 1715252.5]\n",
    ")\n",
    "\n",
    "\n",
    "ada015 = dict(\n",
    "acc_std_list =[543433.0703602636, 532921.2880136895, 544632.5364542059, 513285.41918586224, 520266.6802882921],\n",
    "pos_std_list =[166.18898970204634, 161.054830505613, 167.17903494131514, 159.532000118815, 160.28989567619166],\n",
    "pos_ave_list =[258.5468682280568, 249.45527410407243, 262.66663997509676, 273.290223445141, 262.84643205444013],\n",
    "acc_ave_list =[537811.3416254031, 530862.7344947837, 549269.9452962948, 480643.3457987969, 516821.9983733156],\n",
    "total_max_list = [1759042.5, 1658207.0, 1784336.0, 1740451.5, 1811812.0],\n",
    "total_min_list = [1199460.5, 1199824.0, 1199548.5, 1200820.5, 1200260.5],\n",
    "pos_max_list =[511, 481, 516, 503, 526],\n",
    "pos_min_list =[0, 0, 0, 0, 0],\n",
    "acc_max_list =[1746964.5, 1642949.5, 1771062.5, 1736982.0, 1798116.0],\n",
    "acc_min_list =[0.0, 0.0, 0.0, 0.5, 0.0],\n",
    "total_end_list = [1755549.5, 1658207.0, 1778553.5, 1727118.5, 1811812.0],\n",
    ")\n",
    "\n",
    "print(sum(pos_ave_list)/5)\n",
    "for key,value in ada015.items():\n",
    "    ada[key].insert(0,sum(value)/5)\n",
    "    ada[key].append(sum(ada07[key])/2)\n",
    "    ada[key].append(ada09[key][0])\n",
    "\n",
    "ada"
   ]
  },
  {
   "cell_type": "code",
   "execution_count": null,
   "metadata": {},
   "outputs": [],
   "source": []
  },
  {
   "cell_type": "code",
   "execution_count": 40,
   "metadata": {},
   "outputs": [
    {
     "data": {
      "image/png": "[encoded data removed]",
      "text/plain": [
       "<Figure size 432x288 with 1 Axes>"
      ]
     },
     "metadata": {
      "needs_background": "light"
     },
     "output_type": "display_data"
    }
   ],
   "source": [
    "import numpy as np\n",
    "import matplotlib.pyplot as plt\n",
    "\n",
    "# 库存\n",
    "plt.plot(np.array([0.15,0.3,0.5,0.7,0.9]),np.array(sda.pos_ave_list),np.array([0.15,0.3,0.5,0.7,0.9]),np.array(ada['pos_ave_list']))\n",
    "plt.ylabel('position')\n",
    "plt.xlabel('damping_factor')\n",
    "plt.show()"
   ]
  },
  {
   "cell_type": "code",
   "execution_count": 41,
   "metadata": {},
   "outputs": [
    {
     "data": {
      "text/plain": [
       "True"
      ]
     },
     "execution_count": 41,
     "metadata": {},
     "output_type": "execute_result"
    }
   ],
   "source": []
  },
  {
   "cell_type": "code",
   "execution_count": null,
   "metadata": {},
   "outputs": [],
   "source": []
  }
 ],
 "metadata": {
  "kernelspec": {
   "display_name": "Python 3",
   "language": "python",
   "name": "python3"
  },
  "language_info": {
   "codemirror_mode": {
    "name": "ipython",
    "version": 3
   },
   "file_extension": ".py",
   "mimetype": "text/x-python",
   "name": "python",
   "nbconvert_exporter": "python",
   "pygments_lexer": "ipython3",
   "version": "3.7.4"
  }
 },
 "nbformat": 4,
 "nbformat_minor": 2
}
